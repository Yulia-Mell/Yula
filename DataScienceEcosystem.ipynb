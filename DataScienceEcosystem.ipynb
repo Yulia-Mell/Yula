{
 "cells": [
  {
   "cell_type": "markdown",
   "id": "a0ef9b1b-0db5-435f-b660-a212f9aaa6e3",
   "metadata": {},
   "source": [
    "# DataScienceEcosystem"
   ]
  },
  {
   "cell_type": "markdown",
   "id": "ef2f7492-a66e-40d6-baa0-6997dd3572fb",
   "metadata": {},
   "source": [
    "In This Notebook, DataScience Tools and Ecosystem are sumarized"
   ]
  },
  {
   "cell_type": "markdown",
   "id": "1186202f-2d34-45e2-8acc-ce69359a7894",
   "metadata": {},
   "source": [
    "**Object**\n",
    "* List popular languages for DataScience\n",
    "* Table of Data Science Tools\n",
    "* List Data Science Library\n",
    "* Examples of evaluating arithmetic expressions in Python"
   ]
  },
  {
   "cell_type": "markdown",
   "id": "ffd8eb2a-9537-4513-835d-42381a5fc6d6",
   "metadata": {},
   "source": [
    " Some of the popular languages that DataScientists use are:\n",
    " 1. Python\n",
    " 2. R\n",
    " 3. Java\n",
    " 4. C++\n",
    " 5. SQL\n",
    " 6. Scala"
   ]
  },
  {
   "cell_type": "markdown",
   "id": "cb800feb-3744-4a11-a4f8-acc077c952ae",
   "metadata": {},
   "source": [
    "Some of the commonly used libraries used by Data Scientists include:\n",
    "* NumPy\n",
    "* Pandas\n",
    "* Matplotlib\n",
    "* Seaborn\n",
    "* Scikit-Learn\n",
    "* TensorFlow\n",
    "* PyTorch"
   ]
  },
  {
   "cell_type": "markdown",
   "id": "e5a50be2-957b-4812-9523-016bc8b2cbb3",
   "metadata": {},
   "source": [
    "|Data Science Tools|\n",
    "|------------------|\n",
    "|Jupyter Notebooks|\n",
    "| RStudio |\n",
    "|GitHub |\n",
    "|Anaconda|"
   ]
  },
  {
   "cell_type": "markdown",
   "id": "fd00607c-acba-4af2-bb9b-6486b66ece16",
   "metadata": {},
   "source": [
    "### Below are a few examples of evaluating arithmetic expressions in Python"
   ]
  },
  {
   "cell_type": "code",
   "execution_count": 39,
   "id": "cfb78af3-ac0e-4b30-a7e2-c5cb1bd6555c",
   "metadata": {
    "scrolled": true
   },
   "outputs": [
    {
     "data": {
      "text/plain": [
       "17"
      ]
     },
     "execution_count": 39,
     "metadata": {},
     "output_type": "execute_result"
    }
   ],
   "source": [
    " #This a simple arithmetic expression to multiply then add integers \n",
    "(3*4)+5\n"
   ]
  },
  {
   "cell_type": "code",
   "execution_count": 26,
   "id": "3e3de2d7-74a9-49cf-bc4f-5a8891f08854",
   "metadata": {},
   "outputs": [
    {
     "data": {
      "text/plain": [
       "3.3333333333333335"
      ]
     },
     "execution_count": 26,
     "metadata": {},
     "output_type": "execute_result"
    }
   ],
   "source": [
    "#This will convert 200 minutes to hours by diving by 60\n",
    "200/60"
   ]
  },
  {
   "cell_type": "markdown",
   "id": "19f18bfa-d9d4-4139-9ab1-1776fbdd8aa0",
   "metadata": {},
   "source": [
    "## Autor\n",
    "Yulia Melnik\n"
   ]
  }
 ],
 "metadata": {
  "kernelspec": {
   "display_name": "Python 3 (ipykernel)",
   "language": "python",
   "name": "python3"
  },
  "language_info": {
   "codemirror_mode": {
    "name": "ipython",
    "version": 3
   },
   "file_extension": ".py",
   "mimetype": "text/x-python",
   "name": "python",
   "nbconvert_exporter": "python",
   "pygments_lexer": "ipython3",
   "version": "3.12.4"
  }
 },
 "nbformat": 4,
 "nbformat_minor": 5
}
