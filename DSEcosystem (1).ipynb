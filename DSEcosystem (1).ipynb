{
 "cells": [
  {
   "cell_type": "markdown",
   "id": "8cf6f2b2-807f-467b-9a91-c45112b8e112",
   "metadata": {},
   "source": [
    "# DataScienceEcosystem"
   ]
  },
  {
   "cell_type": "markdown",
   "id": "08dd35e0-4f2e-4321-8243-9a62163793c0",
   "metadata": {},
   "source": [
    " ```python\n",
    "Is this  Notebook,Data Sience Tools and Ecosystem are sumarized"
   ]
  },
  {
   "cell_type": "markdown",
   "id": "9fb5513f-f518-47ff-b147-25807eaa83c3",
   "metadata": {},
   "source": [
    "Some of the popular languages that Data Scientist use are:\n",
    "1. Python\n",
    "2. R\n",
    "3. SQL\n",
    "4. Java\n",
    "5. Scala\n",
    "6. JavaScript\n",
    "7. C++"
   ]
  },
  {
   "cell_type": "markdown",
   "id": "c5b026ff-a5c5-4034-b210-33881563057c",
   "metadata": {},
   "source": [
    "Some of the commonly used libraries used by Data Scientists include:\n",
    "1. NumPy\n",
    "2. Pandas\n",
    "3. Matplotlib\n",
    "4. Seaborn\n",
    "5. Scikit-Learn\n",
    "6. TensorFlow\n",
    "7. PyTorch\n",
    "   "
   ]
  },
  {
   "cell_type": "markdown",
   "id": "672955ee-58f6-4394-8a8e-376224012b3c",
   "metadata": {},
   "source": [
    "|Data Sciences Tools|\n",
    "|-------------------|\n",
    "|YupyterNotebook|\n",
    "|-------------------|\n",
    "|RStudio|\n",
    "|-------------------|\n",
    "|Apache Spark|\n",
    "\n"
   ]
  },
  {
   "cell_type": "markdown",
   "id": "dd727552-7c16-4647-a77a-8b25481666d9",
   "metadata": {},
   "source": [
    "### Below are a few examples of evaluating arithmetic expressions in Python\n"
   ]
  }
 ],
 "metadata": {
  "kernelspec": {
   "display_name": "Python 3 (ipykernel)",
   "language": "python",
   "name": "python3"
  },
  "language_info": {
   "codemirror_mode": {
    "name": "ipython",
    "version": 3
   },
   "file_extension": ".py",
   "mimetype": "text/x-python",
   "name": "python",
   "nbconvert_exporter": "python",
   "pygments_lexer": "ipython3",
   "version": "3.12.4"
  }
 },
 "nbformat": 4,
 "nbformat_minor": 5
}
